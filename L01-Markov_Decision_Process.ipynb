{
 "cells": [
  {
   "attachments": {
    "0f733ab0-2bbc-4365-a833-1504cd48977e.png": {
     "image/png": "[encoded data removed]"
    },
    "c8ebfe95-1564-483c-a11e-f5409bc20c19.png": {
     "image/png": "[encoded data removed]"
    },
    "dede48f6-d23c-4f08-b72d-09452037d606.png": {
     "image/png": "[encoded data removed]"
    }
   },
   "cell_type": "markdown",
   "id": "4a4183f6-79c7-4764-90df-25c08c216706",
   "metadata": {},
   "source": [
    "# Foundations\n",
    "\n",
    "## Control Tasks\n",
    "\n",
    "\"An appropriate action must be taken at each moment in time to solve an appropriate task\"\n",
    "\n",
    "Examples - game of chess , controlling a mechanical arm and pacman \n",
    "\n",
    "#### Elements common to all control tasks\n",
    "\n",
    "1. **State** : At which situation the task environment is currently in\n",
    "\n",
    "*for eg. -*\n",
    "- In the game of chess, the 'state' is the position of pieces on the board at that point in time\n",
    "- In the case of robotic arm, 'state' is the position of the object to be manipulated and the location of arm joints\n",
    "- In the case of pacman game, 'state' is location of the yellow pill and the location of the ghost\n",
    "\n",
    "> The state is always linked to the moment in time that's why it's donated as state S of time t  \n",
    "![image.png](attachment:0f733ab0-2bbc-4365-a833-1504cd48977e.png)\n",
    "\n",
    "2. **Action** (carried out during the task) : Moves that player can perform at any moment in time\n",
    "\n",
    "*for eg. -*\n",
    "- In the game of chess, the 'action' is the player changing the position of pieces\n",
    "- In the case of robotic arm, 'action' is the movement of arm joints to pick the object\n",
    "- In the case of pacman game, 'action' is pressing the button by player to move the pacman\n",
    "\n",
    "> Actions are also tied to moment in time and they are chosen based on the state of the task  \n",
    "![image.png](attachment:c8ebfe95-1564-483c-a11e-f5409bc20c19.png)\n",
    "\n",
    "3. **Reward** : Mechanism that informs the agent, effectiveness of its decision making. It's a numerical value that agent receives after carrying out an action. It determines the immidiate effect of carrying out that action.\n",
    "\n",
    "*for eg. -*\n",
    "- In the game of chess, the player receives +ve reward when it checkmates the opponent, a -ve reward when it got checkmated and 0 when the move/action doesn't end the game\n",
    "- In the case of robotic arm, the rewards should be 0 until the robot manages to move the object correctly, and only then upon reaching its goal, should it receive a +ve reward from the environment.\n",
    "- In the case of pacman game, the agent will be rewarded +ve whenver it successfully eats yellow pill\n",
    "\n",
    "\n",
    "> These rewards are a representation of the task goals in the form of feedback. So the greater the rewards we get, the better we are achieving the goals of the task.  \n",
    "![image.png](attachment:dede48f6-d23c-4f08-b72d-09452037d606.png)\n",
    "\n",
    "4. **Agent** : The agent is the entity that will participate in the task by observing its state and carrying out actions at each moment in time. In all three cases, the agent can be a human being who observes the state of the task with his eyes and takes the necessary actions based on it.\n",
    "In RL, our agents will always be the algorithms that carry out the action.\n",
    "\n",
    "5. **Environment** : comprises all of the aspects of the task that the agent doesn't control 100%.\n",
    "\n",
    "*For eg.* : In Chess, The remaining time is past of environment as well as opponent moves are also part of the environment"
   ]
  },
  {
   "cell_type": "code",
   "execution_count": null,
   "id": "aa8f19e3-583c-40f7-898b-112fa57aebc6",
   "metadata": {},
   "outputs": [],
   "source": []
  }
 ],
 "metadata": {
  "kernelspec": {
   "display_name": "Python 3 (ipykernel)",
   "language": "python",
   "name": "python3"
  },
  "language_info": {
   "codemirror_mode": {
    "name": "ipython",
    "version": 3
   },
   "file_extension": ".py",
   "mimetype": "text/x-python",
   "name": "python",
   "nbconvert_exporter": "python",
   "pygments_lexer": "ipython3",
   "version": "3.9.17"
  }
 },
 "nbformat": 4,
 "nbformat_minor": 5
}
